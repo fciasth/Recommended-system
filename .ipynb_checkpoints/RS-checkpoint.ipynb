{
 "cells": [
  {
   "cell_type": "code",
   "execution_count": null,
   "metadata": {},
   "outputs": [
    {
     "name": "stderr",
     "output_type": "stream",
     "text": [
      "D:\\install\\anaconda\\lib\\site-packages\\surprise\\evaluate.py:66: UserWarning: The evaluate() method is deprecated. Please use model_selection.cross_validate() instead.\n",
      "  'model_selection.cross_validate() instead.', UserWarning)\n",
      "D:\\install\\anaconda\\lib\\site-packages\\surprise\\dataset.py:193: UserWarning: Using data.split() or using load_from_folds() without using a CV iterator is now deprecated. \n",
      "  UserWarning)\n"
     ]
    },
    {
     "name": "stdout",
     "output_type": "stream",
     "text": [
      "Evaluating RMSE, MAE of algorithm KNNBasic.\n",
      "\n",
      "------------\n",
      "Fold 1\n",
      "Computing the msd similarity matrix...\n",
      "Done computing similarity matrix.\n",
      "RMSE: 0.9822\n",
      "MAE:  0.7752\n",
      "------------\n",
      "Fold 2\n",
      "Computing the msd similarity matrix...\n",
      "Done computing similarity matrix.\n",
      "RMSE: 0.9931\n",
      "MAE:  0.7854\n",
      "------------\n",
      "Fold 3\n",
      "Computing the msd similarity matrix...\n",
      "Done computing similarity matrix.\n",
      "RMSE: 0.9908\n",
      "MAE:  0.7841\n",
      "------------\n",
      "------------\n",
      "Mean RMSE: 0.9887\n",
      "Mean MAE : 0.7816\n",
      "------------\n",
      "------------\n",
      "        Fold 1  Fold 2  Fold 3  Mean    \n",
      "RMSE    0.9822  0.9931  0.9908  0.9887  \n",
      "MAE     0.7752  0.7854  0.7841  0.7816  \n"
     ]
    }
   ],
   "source": [
    "from surprise import KNNBasic,SVD\n",
    "from surprise import Dataset\n",
    "from surprise import evaluate,print_perf\n",
    "\n",
    "#下载mmovielens-100k dataset\n",
    "data = Dataset.load_builtin('ml-100k')\n",
    "#3折交叉验证\n",
    "data.split(n_folds = 3)\n",
    "\n",
    "algo = KNNBasic()\n",
    "\n",
    "perf = evaluate(algo,data,measures=[\"RMSE\",\"MAE\"])\n",
    "\n",
    "print_perf(perf)"
   ]
  },
  {
   "cell_type": "code",
   "execution_count": null,
   "metadata": {},
   "outputs": [
    {
     "name": "stderr",
     "output_type": "stream",
     "text": [
      "D:\\install\\anaconda\\lib\\site-packages\\surprise\\evaluate.py:232: UserWarning: The GridSearch() class is deprecated. Please use model_selection.GridSearchCV instead.\n",
      "  'model_selection.GridSearchCV instead.', UserWarning)\n"
     ]
    },
    {
     "name": "stdout",
     "output_type": "stream",
     "text": [
      "Running grid search for the following parameter combinations:\n",
      "{'n_epochs': 5, 'lr_all': 0.002, 'reg_all': 0.4}\n",
      "{'n_epochs': 5, 'lr_all': 0.002, 'reg_all': 0.6}\n",
      "{'n_epochs': 5, 'lr_all': 0.005, 'reg_all': 0.4}\n",
      "{'n_epochs': 5, 'lr_all': 0.005, 'reg_all': 0.6}\n",
      "{'n_epochs': 10, 'lr_all': 0.002, 'reg_all': 0.4}\n",
      "{'n_epochs': 10, 'lr_all': 0.002, 'reg_all': 0.6}\n",
      "{'n_epochs': 10, 'lr_all': 0.005, 'reg_all': 0.4}\n",
      "{'n_epochs': 10, 'lr_all': 0.005, 'reg_all': 0.6}\n"
     ]
    },
    {
     "name": "stderr",
     "output_type": "stream",
     "text": [
      "D:\\install\\anaconda\\lib\\site-packages\\surprise\\evaluate.py:66: UserWarning: The evaluate() method is deprecated. Please use model_selection.cross_validate() instead.\n",
      "  'model_selection.cross_validate() instead.', UserWarning)\n",
      "D:\\install\\anaconda\\lib\\site-packages\\surprise\\dataset.py:193: UserWarning: Using data.split() or using load_from_folds() without using a CV iterator is now deprecated. \n",
      "  UserWarning)\n"
     ]
    }
   ],
   "source": [
    "from surprise import GridSearch\n",
    "#测试最优超参数\n",
    "#把参数先写成字典的形式\n",
    "param_grid ={'n_epochs':[5,10],'lr_all':[0.002,0.005],'reg_all':[0.4,0.6]}\n",
    "grid_search = GridSearch(SVD,param_grid,measures=['RMSE','FCP'])\n",
    "data =Dataset.load_builtin('ml-100k')\n",
    "data.split(n_folds=3)\n",
    "grid_search.evaluate(data)\n"
   ]
  },
  {
   "cell_type": "code",
   "execution_count": null,
   "metadata": {},
   "outputs": [],
   "source": [
    "print(\"best RMSE score:\",grid_search.best_score['RMSE'],grid_search.best_params['RMSE'])\n",
    "print(\"best FCP score:\" ,grid_search.best_score['FCP'],grid_search.best_params['FCP'])"
   ]
  },
  {
   "cell_type": "code",
   "execution_count": null,
   "metadata": {},
   "outputs": [],
   "source": [
    "import pandas as pd\n",
    "results_df = pd.DataFrame.from_dict(grid_search.cv_results)\n",
    "results_df"
   ]
  },
  {
   "cell_type": "code",
   "execution_count": null,
   "metadata": {},
   "outputs": [],
   "source": [
    "from __future__ import (absolute_import,division,print_function,unicode_literals)\n",
    "import os\n",
    "import io\n",
    "from surprise import KNNBaseline\n",
    "from surprise import Dataset\n",
    "def read_item_names():\n",
    "    file_name = {}\n",
    "    name_to_rid = {}\n",
    "    with io.open(file_name,'r',encoding='ISO-8859-1') as f:\n",
    "        for line in f:\n",
    "            line = line.split('l')\n",
    "            rib_to_name[line[0]] = line[1]\n",
    "            name_to_rid[line[1]] = line[0]\n",
    "    return rid_to_name,name_to_rid\n",
    "data =Dataset.load_builtin('ml-100k')\n",
    "#转换成矩阵形式\n",
    "trainset = data.build_full_trainset()\n",
    "#皮尔逊相似度\n",
    "#cosine，msd，pearson\n",
    "sim_options = {'name':'pearson_baseline','user_based':False}\n",
    "algo = KNNBaseline(sim_options=sim_options)\n",
    "algo.train(trainset)"
   ]
  },
  {
   "cell_type": "code",
   "execution_count": null,
   "metadata": {
    "collapsed": true
   },
   "outputs": [],
   "source": [
    "rid_to_name,name_to_rid = read_item_names()\n",
    "\n",
    "toy_story_raw_id = name_to_rid['Now and Then(1995)']\n",
    "toy_story_raw_id"
   ]
  },
  {
   "cell_type": "code",
   "execution_count": null,
   "metadata": {
    "collapsed": true
   },
   "outputs": [],
   "source": []
  }
 ],
 "metadata": {
  "kernelspec": {
   "display_name": "Python 3",
   "language": "python",
   "name": "python3"
  },
  "language_info": {
   "codemirror_mode": {
    "name": "ipython",
    "version": 3
   },
   "file_extension": ".py",
   "mimetype": "text/x-python",
   "name": "python",
   "nbconvert_exporter": "python",
   "pygments_lexer": "ipython3",
   "version": "3.6.4"
  }
 },
 "nbformat": 4,
 "nbformat_minor": 2
}
