{
 "cells": [
  {
   "cell_type": "code",
   "execution_count": 7,
   "metadata": {},
   "outputs": [
    {
     "name": "stderr",
     "output_type": "stream",
     "text": [
      "D:\\install\\anaconda\\lib\\site-packages\\surprise\\evaluate.py:66: UserWarning: The evaluate() method is deprecated. Please use model_selection.cross_validate() instead.\n",
      "  'model_selection.cross_validate() instead.', UserWarning)\n",
      "D:\\install\\anaconda\\lib\\site-packages\\surprise\\dataset.py:193: UserWarning: Using data.split() or using load_from_folds() without using a CV iterator is now deprecated. \n",
      "  UserWarning)\n"
     ]
    },
    {
     "name": "stdout",
     "output_type": "stream",
     "text": [
      "Evaluating RMSE, MAE of algorithm KNNBasic.\n",
      "\n",
      "------------\n",
      "Fold 1\n",
      "Computing the msd similarity matrix...\n",
      "Done computing similarity matrix.\n",
      "RMSE: 0.9921\n",
      "MAE:  0.7826\n",
      "------------\n",
      "Fold 2\n",
      "Computing the msd similarity matrix...\n",
      "Done computing similarity matrix.\n",
      "RMSE: 0.9960\n",
      "MAE:  0.7894\n",
      "------------\n",
      "Fold 3\n",
      "Computing the msd similarity matrix...\n",
      "Done computing similarity matrix.\n",
      "RMSE: 0.9793\n",
      "MAE:  0.7736\n",
      "------------\n",
      "------------\n",
      "Mean RMSE: 0.9891\n",
      "Mean MAE : 0.7819\n",
      "------------\n",
      "------------\n",
      "        Fold 1  Fold 2  Fold 3  Mean    \n",
      "RMSE    0.9921  0.9960  0.9793  0.9891  \n",
      "MAE     0.7826  0.7894  0.7736  0.7819  \n"
     ]
    }
   ],
   "source": [
    "from surprise import KNNBasic,SVD\n",
    "from surprise import Dataset\n",
    "from surprise import evaluate,print_perf\n",
    "\n",
    "#下载mmovielens-100k dataset\n",
    "data = Dataset.load_builtin('ml-100k')\n",
    "#3折交叉验证\n",
    "data.split(n_folds = 3)\n",
    "\n",
    "algo = KNNBasic()\n",
    "\n",
    "perf = evaluate(algo,data,measures=[\"RMSE\",\"MAE\"])\n",
    "\n",
    "print_perf(perf)"
   ]
  },
  {
   "cell_type": "code",
   "execution_count": 8,
   "metadata": {},
   "outputs": [
    {
     "name": "stderr",
     "output_type": "stream",
     "text": [
      "D:\\install\\anaconda\\lib\\site-packages\\surprise\\evaluate.py:232: UserWarning: The GridSearch() class is deprecated. Please use model_selection.GridSearchCV instead.\n",
      "  'model_selection.GridSearchCV instead.', UserWarning)\n"
     ]
    },
    {
     "name": "stdout",
     "output_type": "stream",
     "text": [
      "Running grid search for the following parameter combinations:\n",
      "{'n_epochs': 5, 'lr_all': 0.002, 'reg_all': 0.4}\n",
      "{'n_epochs': 5, 'lr_all': 0.002, 'reg_all': 0.6}\n",
      "{'n_epochs': 5, 'lr_all': 0.005, 'reg_all': 0.4}\n",
      "{'n_epochs': 5, 'lr_all': 0.005, 'reg_all': 0.6}\n",
      "{'n_epochs': 10, 'lr_all': 0.002, 'reg_all': 0.4}\n",
      "{'n_epochs': 10, 'lr_all': 0.002, 'reg_all': 0.6}\n",
      "{'n_epochs': 10, 'lr_all': 0.005, 'reg_all': 0.4}\n",
      "{'n_epochs': 10, 'lr_all': 0.005, 'reg_all': 0.6}\n"
     ]
    },
    {
     "name": "stderr",
     "output_type": "stream",
     "text": [
      "D:\\install\\anaconda\\lib\\site-packages\\surprise\\evaluate.py:66: UserWarning: The evaluate() method is deprecated. Please use model_selection.cross_validate() instead.\n",
      "  'model_selection.cross_validate() instead.', UserWarning)\n",
      "D:\\install\\anaconda\\lib\\site-packages\\surprise\\dataset.py:193: UserWarning: Using data.split() or using load_from_folds() without using a CV iterator is now deprecated. \n",
      "  UserWarning)\n"
     ]
    },
    {
     "name": "stdout",
     "output_type": "stream",
     "text": [
      "Resulsts:\n",
      "{'n_epochs': 5, 'lr_all': 0.002, 'reg_all': 0.4}\n",
      "{'RMSE': 0.9970816060479684, 'FCP': 0.6838838093426546}\n",
      "----------\n",
      "{'n_epochs': 5, 'lr_all': 0.002, 'reg_all': 0.6}\n",
      "{'RMSE': 1.0033923848681459, 'FCP': 0.6861583943717493}\n",
      "----------\n",
      "{'n_epochs': 5, 'lr_all': 0.005, 'reg_all': 0.4}\n",
      "{'RMSE': 0.9738540435257467, 'FCP': 0.6937730409471105}\n",
      "----------\n",
      "{'n_epochs': 5, 'lr_all': 0.005, 'reg_all': 0.6}\n",
      "{'RMSE': 0.9825456763638948, 'FCP': 0.6949354064705925}\n",
      "----------\n",
      "{'n_epochs': 10, 'lr_all': 0.002, 'reg_all': 0.4}\n",
      "{'RMSE': 0.9780544929076619, 'FCP': 0.6926185471394067}\n",
      "----------\n",
      "{'n_epochs': 10, 'lr_all': 0.002, 'reg_all': 0.6}\n",
      "{'RMSE': 0.9862646047264997, 'FCP': 0.6933012137443108}\n",
      "----------\n",
      "{'n_epochs': 10, 'lr_all': 0.005, 'reg_all': 0.4}\n",
      "{'RMSE': 0.9640519228493676, 'FCP': 0.6981022958400923}\n",
      "----------\n",
      "{'n_epochs': 10, 'lr_all': 0.005, 'reg_all': 0.6}\n",
      "{'RMSE': 0.9738185557180111, 'FCP': 0.6983971898567704}\n",
      "----------\n"
     ]
    }
   ],
   "source": [
    "from surprise import GridSearch\n",
    "#测试最优超参数\n",
    "#把参数先写成字典的形式\n",
    "param_grid ={'n_epochs':[5,10],'lr_all':[0.002,0.005],'reg_all':[0.4,0.6]}\n",
    "grid_search = GridSearch(SVD,param_grid,measures=['RMSE','FCP'])\n",
    "data =Dataset.load_builtin('ml-100k')\n",
    "data.split(n_folds=3)\n",
    "grid_search.evaluate(data)\n"
   ]
  },
  {
   "cell_type": "code",
   "execution_count": 9,
   "metadata": {},
   "outputs": [
    {
     "name": "stdout",
     "output_type": "stream",
     "text": [
      "best RMSE score: 0.9640519228493676 {'n_epochs': 10, 'lr_all': 0.005, 'reg_all': 0.4}\n",
      "best FCP score: 0.6983971898567704 {'n_epochs': 10, 'lr_all': 0.005, 'reg_all': 0.6}\n"
     ]
    }
   ],
   "source": [
    "print(\"best RMSE score:\",grid_search.best_score['RMSE'],grid_search.best_params['RMSE'])\n",
    "print(\"best FCP score:\" ,grid_search.best_score['FCP'],grid_search.best_params['FCP'])"
   ]
  },
  {
   "cell_type": "code",
   "execution_count": 15,
   "metadata": {},
   "outputs": [
    {
     "data": {
      "text/html": [
       "<div>\n",
       "<style>\n",
       "    .dataframe thead tr:only-child th {\n",
       "        text-align: right;\n",
       "    }\n",
       "\n",
       "    .dataframe thead th {\n",
       "        text-align: left;\n",
       "    }\n",
       "\n",
       "    .dataframe tbody tr th {\n",
       "        vertical-align: top;\n",
       "    }\n",
       "</style>\n",
       "<table border=\"1\" class=\"dataframe\">\n",
       "  <thead>\n",
       "    <tr style=\"text-align: right;\">\n",
       "      <th></th>\n",
       "      <th>params</th>\n",
       "      <th>scores</th>\n",
       "    </tr>\n",
       "  </thead>\n",
       "  <tbody>\n",
       "    <tr>\n",
       "      <th>0</th>\n",
       "      <td>{'n_epochs': 5, 'lr_all': 0.002, 'reg_all': 0.4}</td>\n",
       "      <td>{'RMSE': 0.9970816060479684, 'FCP': 0.68388380...</td>\n",
       "    </tr>\n",
       "    <tr>\n",
       "      <th>1</th>\n",
       "      <td>{'n_epochs': 5, 'lr_all': 0.002, 'reg_all': 0.6}</td>\n",
       "      <td>{'RMSE': 1.0033923848681459, 'FCP': 0.68615839...</td>\n",
       "    </tr>\n",
       "    <tr>\n",
       "      <th>2</th>\n",
       "      <td>{'n_epochs': 5, 'lr_all': 0.005, 'reg_all': 0.4}</td>\n",
       "      <td>{'RMSE': 0.9738540435257467, 'FCP': 0.69377304...</td>\n",
       "    </tr>\n",
       "    <tr>\n",
       "      <th>3</th>\n",
       "      <td>{'n_epochs': 5, 'lr_all': 0.005, 'reg_all': 0.6}</td>\n",
       "      <td>{'RMSE': 0.9825456763638948, 'FCP': 0.69493540...</td>\n",
       "    </tr>\n",
       "    <tr>\n",
       "      <th>4</th>\n",
       "      <td>{'n_epochs': 10, 'lr_all': 0.002, 'reg_all': 0.4}</td>\n",
       "      <td>{'RMSE': 0.9780544929076619, 'FCP': 0.69261854...</td>\n",
       "    </tr>\n",
       "    <tr>\n",
       "      <th>5</th>\n",
       "      <td>{'n_epochs': 10, 'lr_all': 0.002, 'reg_all': 0.6}</td>\n",
       "      <td>{'RMSE': 0.9862646047264997, 'FCP': 0.69330121...</td>\n",
       "    </tr>\n",
       "    <tr>\n",
       "      <th>6</th>\n",
       "      <td>{'n_epochs': 10, 'lr_all': 0.005, 'reg_all': 0.4}</td>\n",
       "      <td>{'RMSE': 0.9640519228493676, 'FCP': 0.69810229...</td>\n",
       "    </tr>\n",
       "    <tr>\n",
       "      <th>7</th>\n",
       "      <td>{'n_epochs': 10, 'lr_all': 0.005, 'reg_all': 0.6}</td>\n",
       "      <td>{'RMSE': 0.9738185557180111, 'FCP': 0.69839718...</td>\n",
       "    </tr>\n",
       "  </tbody>\n",
       "</table>\n",
       "</div>"
      ],
      "text/plain": [
       "                                              params  \\\n",
       "0   {'n_epochs': 5, 'lr_all': 0.002, 'reg_all': 0.4}   \n",
       "1   {'n_epochs': 5, 'lr_all': 0.002, 'reg_all': 0.6}   \n",
       "2   {'n_epochs': 5, 'lr_all': 0.005, 'reg_all': 0.4}   \n",
       "3   {'n_epochs': 5, 'lr_all': 0.005, 'reg_all': 0.6}   \n",
       "4  {'n_epochs': 10, 'lr_all': 0.002, 'reg_all': 0.4}   \n",
       "5  {'n_epochs': 10, 'lr_all': 0.002, 'reg_all': 0.6}   \n",
       "6  {'n_epochs': 10, 'lr_all': 0.005, 'reg_all': 0.4}   \n",
       "7  {'n_epochs': 10, 'lr_all': 0.005, 'reg_all': 0.6}   \n",
       "\n",
       "                                              scores  \n",
       "0  {'RMSE': 0.9970816060479684, 'FCP': 0.68388380...  \n",
       "1  {'RMSE': 1.0033923848681459, 'FCP': 0.68615839...  \n",
       "2  {'RMSE': 0.9738540435257467, 'FCP': 0.69377304...  \n",
       "3  {'RMSE': 0.9825456763638948, 'FCP': 0.69493540...  \n",
       "4  {'RMSE': 0.9780544929076619, 'FCP': 0.69261854...  \n",
       "5  {'RMSE': 0.9862646047264997, 'FCP': 0.69330121...  \n",
       "6  {'RMSE': 0.9640519228493676, 'FCP': 0.69810229...  \n",
       "7  {'RMSE': 0.9738185557180111, 'FCP': 0.69839718...  "
      ]
     },
     "execution_count": 15,
     "metadata": {},
     "output_type": "execute_result"
    }
   ],
   "source": [
    "import pandas as pd\n",
    "results_df = pd.DataFrame.from_dict(grid_search.cv_results)\n",
    "results_df"
   ]
  },
  {
   "cell_type": "code",
   "execution_count": 16,
   "metadata": {},
   "outputs": [
    {
     "name": "stderr",
     "output_type": "stream",
     "text": [
      "D:\\install\\anaconda\\lib\\site-packages\\surprise\\prediction_algorithms\\algo_base.py:51: UserWarning: train() is deprecated. Use fit() instead\n",
      "  warnings.warn('train() is deprecated. Use fit() instead', UserWarning)\n"
     ]
    },
    {
     "name": "stdout",
     "output_type": "stream",
     "text": [
      "Estimating biases using als...\n",
      "Computing the pearson_baseline similarity matrix...\n",
      "Done computing similarity matrix.\n"
     ]
    },
    {
     "data": {
      "text/plain": [
       "<surprise.prediction_algorithms.knns.KNNBaseline at 0x20a26675828>"
      ]
     },
     "execution_count": 16,
     "metadata": {},
     "output_type": "execute_result"
    }
   ],
   "source": [
    "from __future__ import (absolute_import,division,print_function,unicode_literals)\n",
    "import os\n",
    "import io\n",
    "from surprise import KNNBaseline\n",
    "from surprise import Dataset\n",
    "def read_item_names():\n",
    "\n",
    "\n",
    "    file_name = ('ml-100k/u.item')\n",
    "    rid_to_name = {}\n",
    "    name_to_rid = {}\n",
    "    with io.open(file_name, 'r', encoding='ISO-8859-1') as f:\n",
    "        for line in f:\n",
    "            line = line.split('|')\n",
    "            rid_to_name[line[0]] = line[1]\n",
    "            name_to_rid[line[1]] = line[0]\n",
    "\n",
    "    return rid_to_name, name_to_rid\n",
    "\n",
    "\n",
    "\n",
    "data = Dataset.load_builtin('ml-100k')\n",
    "trainset = data.build_full_trainset()\n",
    "sim_options = {'name': 'pearson_baseline', 'user_based': False}\n",
    "algo = KNNBaseline(sim_options=sim_options)\n",
    "algo.train(trainset)"
   ]
  },
  {
   "cell_type": "code",
   "execution_count": 18,
   "metadata": {},
   "outputs": [
    {
     "data": {
      "text/plain": [
       "'1053'"
      ]
     },
     "execution_count": 18,
     "metadata": {},
     "output_type": "execute_result"
    }
   ],
   "source": [
    "rid_to_name,name_to_rid = read_item_names()\n",
    "\n",
    "toy_story_raw_id = name_to_rid['Now and Then (1995)']\n",
    "toy_story_raw_id"
   ]
  },
  {
   "cell_type": "code",
   "execution_count": 19,
   "metadata": {},
   "outputs": [
    {
     "data": {
      "text/plain": [
       "961"
      ]
     },
     "execution_count": 19,
     "metadata": {},
     "output_type": "execute_result"
    }
   ],
   "source": [
    "toy_story_inner_id = algo.trainset.to_inner_iid(toy_story_raw_id)\n",
    "toy_story_inner_id"
   ]
  },
  {
   "cell_type": "code",
   "execution_count": 20,
   "metadata": {},
   "outputs": [
    {
     "data": {
      "text/plain": [
       "[291, 82, 366, 528, 179, 101, 556, 310, 431, 543]"
      ]
     },
     "execution_count": 20,
     "metadata": {},
     "output_type": "execute_result"
    }
   ],
   "source": [
    "toy_story_neighbors = algo.get_neighbors(toy_story_inner_id, k=10)\n",
    "toy_story_neighbors"
   ]
  },
  {
   "cell_type": "code",
   "execution_count": 21,
   "metadata": {},
   "outputs": [
    {
     "name": "stdout",
     "output_type": "stream",
     "text": [
      "\n",
      "The 10 nearest neighbors of Toy Story are:\n",
      "While You Were Sleeping (1995)\n",
      "Batman (1989)\n",
      "Dave (1993)\n",
      "Mrs. Doubtfire (1993)\n",
      "Groundhog Day (1993)\n",
      "Raiders of the Lost Ark (1981)\n",
      "Maverick (1994)\n",
      "French Kiss (1995)\n",
      "Stand by Me (1986)\n",
      "Net, The (1995)\n"
     ]
    }
   ],
   "source": [
    "toy_story_neighbors = (algo.trainset.to_raw_iid(inner_id)\n",
    "                       for inner_id in toy_story_neighbors)\n",
    "toy_story_neighbors = (rid_to_name[rid]\n",
    "                       for rid in toy_story_neighbors)\n",
    "\n",
    "print()\n",
    "print('The 10 nearest neighbors of Toy Story are:')\n",
    "for movie in toy_story_neighbors:\n",
    "    print(movie)"
   ]
  },
  {
   "cell_type": "code",
   "execution_count": null,
   "metadata": {
    "collapsed": true
   },
   "outputs": [],
   "source": []
  }
 ],
 "metadata": {
  "kernelspec": {
   "display_name": "Python 3",
   "language": "python",
   "name": "python3"
  },
  "language_info": {
   "codemirror_mode": {
    "name": "ipython",
    "version": 3
   },
   "file_extension": ".py",
   "mimetype": "text/x-python",
   "name": "python",
   "nbconvert_exporter": "python",
   "pygments_lexer": "ipython3",
   "version": "3.6.4"
  }
 },
 "nbformat": 4,
 "nbformat_minor": 2
}
